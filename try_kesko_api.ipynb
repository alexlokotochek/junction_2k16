{
 "cells": [
  {
   "cell_type": "code",
   "execution_count": 97,
   "metadata": {
    "collapsed": true
   },
   "outputs": [],
   "source": [
    "import http.client\n",
    "import json\n",
    "\n",
    "def split_with_first_numeric(av):\n",
    "    if '100%' == av[:4]:\n",
    "        av = av[4:]\n",
    "    for i, c in enumerate(av):\n",
    "        if c.isnumeric():\n",
    "            return av[:i-1], av[i:]"
   ]
  },
  {
   "cell_type": "code",
   "execution_count": 108,
   "metadata": {
    "collapsed": false
   },
   "outputs": [
    {
     "name": "stdout",
     "output_type": "stream",
     "text": [
      "0 / 10...\n",
      "1 / 10...\n",
      "2 / 10...\n",
      "3 / 10...\n",
      "4 / 10...\n",
      "5 / 10...\n",
      "6 / 10...\n",
      "7 / 10...\n",
      "8 / 10...\n",
      "9 / 10...\n",
      "10 / 10...\n"
     ]
    },
    {
     "ename": "KeyError",
     "evalue": "'results'",
     "output_type": "error",
     "traceback": [
      "\u001b[0;31m---------------------------------------------------------------------------\u001b[0m",
      "\u001b[0;31mKeyError\u001b[0m                                  Traceback (most recent call last)",
      "\u001b[0;32m<ipython-input-108-e11b516d4027>\u001b[0m in \u001b[0;36m<module>\u001b[0;34m()\u001b[0m\n\u001b[1;32m     21\u001b[0m     \u001b[0mres\u001b[0m \u001b[0;34m=\u001b[0m \u001b[0mconn\u001b[0m\u001b[0;34m.\u001b[0m\u001b[0mgetresponse\u001b[0m\u001b[0;34m(\u001b[0m\u001b[0;34m)\u001b[0m\u001b[0;34m\u001b[0m\u001b[0m\n\u001b[1;32m     22\u001b[0m     \u001b[0mdata\u001b[0m \u001b[0;34m=\u001b[0m \u001b[0mres\u001b[0m\u001b[0;34m.\u001b[0m\u001b[0mread\u001b[0m\u001b[0;34m(\u001b[0m\u001b[0;34m)\u001b[0m\u001b[0;34m\u001b[0m\u001b[0m\n\u001b[0;32m---> 23\u001b[0;31m     \u001b[0mdata\u001b[0m \u001b[0;34m=\u001b[0m \u001b[0mjson\u001b[0m\u001b[0;34m.\u001b[0m\u001b[0mloads\u001b[0m\u001b[0;34m(\u001b[0m\u001b[0mdata\u001b[0m\u001b[0;34m.\u001b[0m\u001b[0mdecode\u001b[0m\u001b[0;34m(\u001b[0m\u001b[0;34m\"utf-8\"\u001b[0m\u001b[0;34m)\u001b[0m\u001b[0;34m)\u001b[0m\u001b[0;34m[\u001b[0m\u001b[0;34m'results'\u001b[0m\u001b[0;34m]\u001b[0m\u001b[0;34m\u001b[0m\u001b[0m\n\u001b[0m\u001b[1;32m     24\u001b[0m     \u001b[0;32mfor\u001b[0m \u001b[0mproduct\u001b[0m \u001b[0;32min\u001b[0m \u001b[0mdata\u001b[0m\u001b[0;34m:\u001b[0m\u001b[0;34m\u001b[0m\u001b[0m\n\u001b[1;32m     25\u001b[0m         \u001b[0;32mif\u001b[0m \u001b[0;34m'attributes'\u001b[0m \u001b[0;32min\u001b[0m \u001b[0mproduct\u001b[0m \u001b[0;32mand\u001b[0m \u001b[0;34m'articleFeatures'\u001b[0m \u001b[0;32min\u001b[0m \u001b[0mproduct\u001b[0m\u001b[0;34m[\u001b[0m\u001b[0;34m'attributes'\u001b[0m\u001b[0;34m]\u001b[0m\u001b[0;34m:\u001b[0m\u001b[0;34m\u001b[0m\u001b[0m\n",
      "\u001b[0;31mKeyError\u001b[0m: 'results'"
     ]
    }
   ],
   "source": [
    "conn = http.client.HTTPSConnection(\"api.eu.apiconnect.ibmcloud.com\")\n",
    "headers = {\n",
    "    'x-ibm-client-id': \"7ddb67df-4c7b-4fa3-ab1f-1a5c3cd2dfc8\",\n",
    "    'x-ibm-client-secret': \"pF0lJ3cV0vO4tJ7yF5gE5aX5oK6mI7nM8eR5cM0yI2cY8fD5lQ\",\n",
    "    'content-type': \"application/json\",\n",
    "    'accept': \"application/json\",\n",
    "    'accept-language': \"fi\"\n",
    "    }\n",
    "\n",
    "productean_to_attrs = {}\n",
    "productean_to_cat = {}\n",
    "productean_to_img = {}\n",
    "cat_to_producteans = {}\n",
    "total = 10000\n",
    "step = int(total/10)\n",
    "for offset in range(0, total+1, 100):\n",
    "    if offset % step == 0:\n",
    "        print(int(offset/step), '/ 10...')\n",
    "    payload = \"{\\\"view\\\":{\\\"limit\\\":100,\\\"offset\\\":\"+str(offset)+\"}}\"\n",
    "    conn.request(\"POST\", \"/kesko-dev-rauta-api/qa/products/actions/search\", payload, headers)\n",
    "    res = conn.getresponse()\n",
    "    data = res.read()\n",
    "    data = json.loads(data.decode(\"utf-8\")) \n",
    "    if 'results' not in data:\n",
    "        continue\n",
    "    data = data['results']\n",
    "    for product in data:\n",
    "        if 'attributes' in product and 'articleFeatures' in product['attributes']:\n",
    "            atrs = product['attributes']['articleFeatures'].split('- ')\n",
    "            atrs = [atr for atr in atrs if len(atr)>0]\n",
    "            if not atrs or len(atrs)==0:\n",
    "                continue\n",
    "            atrs = list(map(lambda atr:split_with_first_numeric(atr), atrs))\n",
    "            atrs_ = []\n",
    "            for a in atrs:\n",
    "                if a:\n",
    "                    atrs_.append(a)\n",
    "            atrs = atrs_\n",
    "            this_ean = product['ean']\n",
    "            this_cat = product['categoryId']\n",
    "            productean_to_cat[this_ean] = this_cat\n",
    "            if this_cat not in cat_to_producteans:\n",
    "                cat_to_producteans[this_cat] = []\n",
    "            cat_to_producteans[this_cat] += [this_ean]\n",
    "            if 'images' in product:\n",
    "                productean_to_img[this_ean] = product['images'][0]['url']\n",
    "            if this_ean in productean_to_attrs:\n",
    "                print('collision!', this_ean)\n",
    "                break\n",
    "            productean_to_attrs[this_ean] = {}\n",
    "            for atr, value in atrs:\n",
    "                productean_to_attrs[this_ean][atr] = value.replace('\\n','')"
   ]
  },
  {
   "cell_type": "code",
   "execution_count": 109,
   "metadata": {
    "collapsed": false
   },
   "outputs": [],
   "source": [
    "productean_to_attrs_ = {}\n",
    "for ean, atrs in productean_to_attrs.items():\n",
    "#     print(ean, ':', atrs)\n",
    "    if len(atrs) != 0:\n",
    "        productean_to_attrs_[ean] = atrs\n",
    "productean_to_attrs = productean_to_attrs_"
   ]
  },
  {
   "cell_type": "code",
   "execution_count": 110,
   "metadata": {
    "collapsed": false
   },
   "outputs": [
    {
     "data": {
      "text/plain": [
       "(853, 1046, 1037, 253)"
      ]
     },
     "execution_count": 110,
     "metadata": {},
     "output_type": "execute_result"
    }
   ],
   "source": [
    "len(productean_to_attrs),len(productean_to_cat),len(productean_to_img),len(cat_to_producteans)"
   ]
  },
  {
   "cell_type": "code",
   "execution_count": 112,
   "metadata": {
    "collapsed": false
   },
   "outputs": [
    {
     "name": "stdout",
     "output_type": "stream",
     "text": [
      "7330509284735 : {' polyesteri,': '185g/m²'}\n",
      "8711148321217 : {'Korkeus noin': '55 cm.'}\n",
      "7330509184332 : {' puuvilla, twill,': '370g/m²'}\n",
      "7330509264973 : {'twill,': '300g/m²', '65% polyesteri, 35% puuvilla,': '65% polyesteri, 35% puuvilla,'}\n",
      "6418394704123 : {'2 vuoden tuotetakuu': '2 vuoden tuotetakuu'}\n",
      "88381024044 : {'kierrosluku nopea': '0-3000 min-1', 'kierrosluku hidas': '0-600 min-1', 'ottoteho': '1200 W'}\n",
      "8023806024645 : {'värivaihtelu ': '2 (melko vähän)', 'vedenimukykyluokka BIII (': '10%)'}\n",
      "6405422566402 : {'100 m': '100 mm'}\n",
      "88381097031 : {'karan kierre ': '14', 'vakiona': '1 kpl laikkoja', 'ottoteho': '720 W', 'kierrosluku': '11000 min -1'}\n",
      "4042456085701 : {'kulutusluokka': '33', '2 sauvainen': '2 sauvainen', '1clic2go pontti': '1clic2go pontti'}\n"
     ]
    }
   ],
   "source": [
    "for ean, atrs in list(productean_to_attrs.items())[:10]:\n",
    "    print(ean, ':', atrs)"
   ]
  },
  {
   "cell_type": "code",
   "execution_count": 114,
   "metadata": {
    "collapsed": false
   },
   "outputs": [],
   "source": [
    "atr_count = {}\n",
    "atr_val_count = {}\n",
    "for ean, atrs in list(productean_to_attrs.items()):\n",
    "    for atr, val in atrs.items():\n",
    "        if atr not in atr_count:\n",
    "            atr_count[atr] = 0\n",
    "        atr_count[atr] += 1\n",
    "        if (atr, val) not in atr_val_count:\n",
    "            atr_val_count[(atr, val)] = 0\n",
    "        atr_val_count[(atr, val)] += 1"
   ]
  },
  {
   "cell_type": "code",
   "execution_count": 118,
   "metadata": {
    "collapsed": false
   },
   "outputs": [
    {
     "name": "stdout",
     "output_type": "stream",
     "text": [
      "Pituus _:_ 44\n",
      "System.Collections.Generic.List _:_ 41\n",
      "Korkeus noin _:_ 40\n",
      " puuvilla, twill, _:_ 38\n",
      "ottoteho _:_ 34\n",
      " _:_ 27\n",
      "kasvukorkeus n. _:_ 26\n",
      "Paino: _:_ 26\n",
      "teho _:_ 22\n",
      "paino _:_ 21\n"
     ]
    }
   ],
   "source": [
    "for atr, count in sorted(atr_count.items(), key=lambda tup:tup[1], reverse=True)[:10]:\n",
    "    print(atr, '_:_', count)"
   ]
  },
  {
   "cell_type": "code",
   "execution_count": 119,
   "metadata": {
    "collapsed": false
   },
   "outputs": [
    {
     "name": "stdout",
     "output_type": "stream",
     "text": [
      "System.Collections.Generic.List = 1[System.String] _:_ 41\n",
      " puuvilla, twill, = 370g/m² _:_ 38\n",
      "10 vuoden taku = 10 vuoden takuu _:_ 17\n",
      "2-komponentti kahvall = 2-komponentti kahvalla _:_ 16\n",
      "2 vuoden tuotetakuu = 2 vuoden tuotetakuu _:_ 13\n",
      "100 % puuvillatwill, 370 g/m = 100 % puuvillatwill, 370 g/m² _:_ 13\n",
      "65% polyesteri = 65% polyesteri _:_ 11\n",
      "35% puuvilla twill, 240 g/m = 35% puuvilla twill, 240 g/m² _:_ 11\n",
      " polyesteri, = 185g/m² _:_ 10\n",
      " puuvilla, = 220 g/m² _:_ 10\n"
     ]
    }
   ],
   "source": [
    "for atrval, count in sorted(atr_val_count.items(), key=lambda tup:tup[1], reverse=True)[:10]:\n",
    "    print(atrval[0],'=',atrval[1], '_:_', count)"
   ]
  },
  {
   "cell_type": "code",
   "execution_count": null,
   "metadata": {
    "collapsed": true
   },
   "outputs": [],
   "source": []
  }
 ],
 "metadata": {
  "kernelspec": {
   "display_name": "Python 3",
   "language": "python",
   "name": "python3"
  },
  "language_info": {
   "codemirror_mode": {
    "name": "ipython",
    "version": 3
   },
   "file_extension": ".py",
   "mimetype": "text/x-python",
   "name": "python",
   "nbconvert_exporter": "python",
   "pygments_lexer": "ipython3",
   "version": "3.5.2"
  }
 },
 "nbformat": 4,
 "nbformat_minor": 0
}
